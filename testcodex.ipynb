{
  "nbformat": 4,
  "nbformat_minor": 0,
  "metadata": {
    "colab": {
      "name": "testcodex.ipynb",
      "provenance": [],
      "collapsed_sections": []
    },
    "kernelspec": {
      "display_name": "Python 3",
      "name": "python3"
    },
    "language_info": {
      "name": "python"
    }
  },
  "cells": [
    {
      "cell_type": "markdown",
      "metadata": {
        "id": "LhgifyMvhX_5"
      },
      "source": [
        "# Matheus Araujo Souza - teste Codex Summer Internship"
      ]
    },
    {
      "cell_type": "markdown",
      "metadata": {
        "id": "1PM29tSfXas3"
      },
      "source": [
        "# 1) Validate CNPJ format and check digits.\n",
        "Given a string, check if it looks like a CNPJ, considering two formats:\n",
        "\n",
        "• Formatted:\n",
        "\"00.000.000/0000-00\"\n",
        "\n",
        "• Number only:\n",
        "\"00000000000000\"\n",
        "\n",
        "Validate if it’s a well-formed CNPJ, considering the “check digits”, as defined by Receita\n",
        "\n",
        "Federal (see: https://pt.wikipedia.org/wiki/Cadastro_Nacional_da_Pessoa_Jur%C3%ADdica).\n",
        "\n",
        "Important: Don’t use a library. You should write the validation code\n"
      ]
    },
    {
      "cell_type": "code",
      "metadata": {
        "id": "MAFLdspJXZa1"
      },
      "source": [
        "'''\n",
        "Funcao para teste do CNPJ.\n",
        "  Descrição: Primeiro um teste será realizado para verificar o tamhno da string, depois\n",
        "  apenas os digitos da string sao pegos no 'new_cnpj'. Assim, um novo teste\n",
        "  é realizado para verificar se todos os elementos no vetor são digitos. No final um \n",
        "  teste é realizado usando a formula dos dois ultimos dígitos para validação.\n",
        "'''\n",
        "def testaCNPJ(s):\n",
        "  if(len(s) != 18):#Testando se o tamanho da string é correto.\n",
        "    print(\"Formatacao incorreta do CNPJ\")\n",
        "  else:\n",
        "    new_cnpj=s[0:2]+s[3:6]+s[7:10]+s[11:15]+s[16:]\n",
        "    if(not(new_cnpj.isdigit()) or len(new_cnpj) < 14):#Verificando o tamanho do vetor e o conteúdo.\n",
        "      print(\"Formatacao incorreta do CNPJ\")\n",
        "    else:\n",
        "      cnpj = list(map(int, new_cnpj))\n",
        "      v=[-1,-1]\n",
        "\n",
        "      # Calcula o primeiro dígito de verificação.\n",
        "      v[0] = 5*cnpj[0] + 4*cnpj[1]  + 3*cnpj[2]  + 2*cnpj[3]\n",
        "      v[0] += 9*cnpj[4] + 8*cnpj[5]  + 7*cnpj[6]  + 6*cnpj[7]\n",
        "      v[0] += 5*cnpj[8] + 4*cnpj[9] + 3*cnpj[10] + 2*cnpj[11]\n",
        "      v[0] = (11 - v[0]) % 11\n",
        "      if(v[0] > 10): v[0] = 0\n",
        "\n",
        "      # Calcula o segundo dígito de verificação.\n",
        "      v[1] = 6*cnpj[0] + 5*cnpj[1]  + 4*cnpj[2]  + 3*cnpj[3]\n",
        "      v[1] += 2*cnpj[4] + 9*cnpj[5]  + 8*cnpj[6]  + 7*cnpj[7]\n",
        "      v[1] += 6*cnpj[8] + 5*cnpj[9] + 4*cnpj[10] + 3*cnpj[11]\n",
        "      v[1] += 2*cnpj[12]\n",
        "      v[1] = (11 - v[1]) % 11\n",
        "      if(v[1] > 10): v[1] = 0\n",
        "\n",
        "      if(v[0] == cnpj[12] and v[1] == cnpj[13]):#Verificando os dois ultimos digitos.\n",
        "        print(\"CNPJ correto\")\n",
        "      else:\n",
        "        print(\"CNPJ incorreto\")"
      ],
      "execution_count": 1,
      "outputs": []
    },
    {
      "cell_type": "markdown",
      "metadata": {
        "id": "HNPUPFagl--8"
      },
      "source": [
        "## Casos testes \n"
      ]
    },
    {
      "cell_type": "code",
      "metadata": {
        "colab": {
          "base_uri": "https://localhost:8080/"
        },
        "id": "k88XFM8pmPRI",
        "outputId": "d9e2614a-a5d2-4054-aba5-cd2651bb8787"
      },
      "source": [
        "test1=\"00.000.000/0000-00\"\n",
        "testaCNPJ(test1)\n",
        "test2=\"bcdefghijklmnopqry\"\n",
        "testaCNPJ(test2)\n",
        "test3=\"74.052.348/0001-69\"\n",
        "testaCNPJ(test3)\n",
        "test4=\"74.052.348/0001-18\"\n",
        "testaCNPJ(test4)\n",
        "test5 =\"81.196.238/0001-36\"\n",
        "testaCNPJ(test5)"
      ],
      "execution_count": 2,
      "outputs": [
        {
          "output_type": "stream",
          "name": "stdout",
          "text": [
            "CNPJ correto\n",
            "Formatacao incorreta do CNPJ\n",
            "CNPJ correto\n",
            "CNPJ incorreto\n",
            "CNPJ correto\n"
          ]
        }
      ]
    },
    {
      "cell_type": "markdown",
      "metadata": {
        "id": "ntgHhaw5nHWI"
      },
      "source": [
        "# 4) Simple Todo List\n",
        "Todo list application that permits the creation and deletion of tasks (texts).\n",
        "\n",
        "• The application must persist the tasks between executions;\n",
        "\n",
        "• Use any storage you want: database, files, PaaS backends (Firebase, etc.);"
      ]
    },
    {
      "cell_type": "code",
      "metadata": {
        "colab": {
          "base_uri": "https://localhost:8080/"
        },
        "id": "d_edcAZCvx35",
        "outputId": "3963654c-ccfb-41f7-86b3-62be5f94a2bc"
      },
      "source": [
        "'''\n",
        "Criando uma tela virtual. \n",
        "  Descrição: Para a rodar programas que abrem uma nova janela aqui no colab é nescessario criar uma \n",
        "  tela virtual, mas não consegui testar na minha máquina. A execução do programa da questão 4 deve ser realizada \n",
        "  em alguma outra IDE. Nos meus testes eu utilizei o Spyder, o resultado final pode ser visualizado no gif.\n",
        "'''\n",
        "!apt-get install -y xvfb # Instalar X Virtual Frame Buffer. \n",
        "import os\n",
        "os.system('Xvfb :1 -screen 0 1600x1200x16  &')    # criando um display virtual com tamanho 1600x1200 e cores de 16 bits. A cor pode ser alterada para 24 ou 8.\n",
        "os.environ['DISPLAY']=':1.0'    # virtual DISPLAY :1.0."
      ],
      "execution_count": 3,
      "outputs": [
        {
          "output_type": "stream",
          "name": "stdout",
          "text": [
            "Reading package lists... Done\n",
            "Building dependency tree       \n",
            "Reading state information... Done\n",
            "The following NEW packages will be installed:\n",
            "  xvfb\n",
            "0 upgraded, 1 newly installed, 0 to remove and 37 not upgraded.\n",
            "Need to get 784 kB of archives.\n",
            "After this operation, 2,270 kB of additional disk space will be used.\n",
            "Get:1 http://archive.ubuntu.com/ubuntu bionic-updates/universe amd64 xvfb amd64 2:1.19.6-1ubuntu4.9 [784 kB]\n",
            "Fetched 784 kB in 1s (679 kB/s)\n",
            "Selecting previously unselected package xvfb.\n",
            "(Reading database ... 155222 files and directories currently installed.)\n",
            "Preparing to unpack .../xvfb_2%3a1.19.6-1ubuntu4.9_amd64.deb ...\n",
            "Unpacking xvfb (2:1.19.6-1ubuntu4.9) ...\n",
            "Setting up xvfb (2:1.19.6-1ubuntu4.9) ...\n",
            "Processing triggers for man-db (2.8.3-2ubuntu0.1) ...\n"
          ]
        }
      ]
    },
    {
      "cell_type": "code",
      "metadata": {
        "id": "1c56MOkYuA2y"
      },
      "source": [
        "from tkinter import *\n",
        "from tkinter import messagebox\n",
        "from tkinter.font import Font\n",
        "\n",
        "\n",
        "\n",
        "\n",
        "'''\n",
        "Funcao para adicionar uma task no list box\n",
        "  Descricao: Um teste será realizado para verificar se a entrada não é vazia e logo depois \n",
        "  a variavel vai ser inserida no list box.\n",
        "'''\n",
        "def newTask():\n",
        "    task = my_entry.get()\n",
        "    if task != \"\":\n",
        "        lb.insert(END, task)#A variavel lb atribuída à caixa de listagem.\n",
        "        my_entry.delete(0, END)#END significa que um novo item será adicionado no final. Se END for substituído por 0 , novos dados serão adicionados no topo.\n",
        "    else:\n",
        "        messagebox.showwarning(\"warning\", \"Please enter some task.\")\n",
        "\n",
        "'''\n",
        "Funcao para deletar uma task.\n",
        "  Descricao: O usuario ira clicar no item e logo depois em um botão com o nome 'Delete Task',\n",
        "  assim a task vai ser deletada. \n",
        "'''\n",
        "def deleteTask():\n",
        "    lb.delete(ANCHOR)#ANCHOR se refere ao item selecionado na caixa de listagem.\n",
        "\n",
        "'''\n",
        "Funcao para deletar todos os itens do list box\n",
        "  Descricao: o usuario vai clicar no botão 'Delete all' e todos os itens do list box\n",
        "  vão ser deletados.\n",
        "'''    \n",
        "def deleteall():\n",
        "   messagebox.showwarning('Delete All','Are you sure? Because this action will delete everything.')\n",
        "   lb.delete(0,END)#lb atribuída à caixa de listagem.\n",
        "\n",
        "#Criando a interface de interação.    \n",
        "ws = Tk()\n",
        "ws.geometry('550x550+400+100')#largura x altura + posição x + posição y. \n",
        "ws.title('Todo list')\n",
        "ws.config(bg='#272324')#cor de fundo da janela. \n",
        "ws.resizable(width=False, height=False)\n",
        "\n",
        "frame = Frame(ws)#Frame será usado para colocar widgets como Listbox e Scrollbars dentro dele. \n",
        "frame.pack(pady=5)#acolchoamento extra ao redor da moldura externa. \n",
        "\n",
        "lb = Listbox(\n",
        "    frame,\n",
        "    width=30,\n",
        "    height=10,\n",
        "    font=('Old English Text MT', 20),\n",
        "    \n",
        "    bg=\"#666666\",\n",
        "    bd=0,\n",
        "    fg=\"#bf9000\",\n",
        "    highlightthickness=0,\n",
        "    selectbackground='#a6a6a6',\n",
        "    activestyle=\"none\",\n",
        "    \n",
        ")\n",
        "lb.pack(side=LEFT, fill=BOTH)\n",
        "\n",
        "#lista fictícia \n",
        "stuff = [\"Write documentation\",\"Learn something\",\"Write software\",\"Go to the gym\",\"Walk with the dog\", \"Buy groceries\", \"Take a nap\", \"Learn Tkinter\", \"Rule the world\"]\n",
        "#Adicionar lista fictícia à caixa de lista.\n",
        "for item in stuff:\n",
        "\tlb.insert(END, item)\n",
        "\n",
        "'''\n",
        "Barras de rolagem\n",
        "  Descrição: Barras de rolagem são usadas para que os usuários possam rolar as \n",
        "  informações que são colocadas em um tamanho limitado na janela.\n",
        "'''\n",
        "sb = Scrollbar(frame)\n",
        "sb.pack(side=RIGHT, fill=BOTH)\n",
        "sb.config(bg=\"#7f6000\")\n",
        "\n",
        "lb.config(yscrollcommand=sb.set)#vinculando a caixa de listagem com a barra de rolagem.\n",
        "sb.config(command=lb.yview)##yview significa que a barra de rolagem irá na direção vertical.\n",
        "\n",
        "\n",
        "my_entry = Entry(#Caixa de entrada para obter informações do Usuario.\n",
        "    ws,\n",
        "    font=('Old English Text MT', 15),\n",
        "     bg=\"#666666\",\n",
        "     fg=\"#bf9000\"\n",
        "    )\n",
        "\n",
        "my_entry.pack(pady=17)\n",
        "\n",
        "#Usamos moldura separada para botões.\n",
        "button_frame = Frame(ws)\n",
        "button_frame.pack(pady=17)\n",
        "\n",
        "'''\n",
        "Criando os tkinter.Button.\n",
        "  Descrição: Quando o botão é clicado, a função mencionada no comando é chamada. \n",
        "  Neste caso, se o usuário clica no botão addTask_btn, em seguida a função newtask \n",
        "  é chamada e quando o usuário clica no botão delTask_btn então a função delTask é chamada, \n",
        "  o mesmo ocorre para a função delall.\n",
        "\n",
        "  lb: é o nome da variável para armazenar a caixa de listagem.\n",
        "  width: o espaço horizontal fornecido.\n",
        "  height: numero de linhas na posição vertical são fornecidas.\n",
        "  font: a fonte.\n",
        "  bd = 0 refere-se à borda é zero.\n",
        "  fg:  é a cor do primeiro plano ou cor do texto.\n",
        "  highlightthickness=0 toda vez que o foco é movido para qualquer item, então ele não deve mostrar nenhum movimento com valor 0 fornecido. por padrão, tem algum valor.\n",
        "  selectbackground: ele decide a cor do item em foco na caixa de listagem.\n",
        "  activestyle=”none” remove o sublinhado que aparece quando o item é selecionado ou focalizado.\n",
        "  geometry manager: usado é pack ().\n",
        "  side=LEFT: isso manterá a caixa de listagem do lado esquerdo do quadro. Fizemos isso de propósito para que possamos atribuir a posição certa às barras de rolagem.\n",
        "  fill=BOTH  isso irá preencher o espaço em branco em ambas as direções que são x e y.\n",
        "'''\n",
        "\n",
        "\n",
        "addTask_btn = Button(\n",
        "    button_frame,\n",
        "    text='Add Task',\n",
        "    font=('Old English Text MT',15),\n",
        "    bg=\"#38761d\",\n",
        "    fg=\"#bf9000\",\n",
        "    padx=30,\n",
        "    pady=20,\n",
        "    command=newTask\n",
        ")\n",
        "addTask_btn.pack(fill=BOTH, expand=True, side=LEFT)\n",
        "\n",
        "delTask_btn = Button(\n",
        "    button_frame,\n",
        "    text='Delete Task',\n",
        "    font=('Old English Text MT',15),\n",
        "    bg='#990000',\n",
        "    fg=\"#bf9000\",\n",
        "    padx=30,\n",
        "    pady=20,\n",
        "    command=deleteTask\n",
        ")\n",
        "delTask_btn.pack(fill=BOTH, expand=True, side=LEFT)\n",
        "\n",
        "delall_btn = Button(\n",
        "    button_frame,\n",
        "    text='Delete all',\n",
        "    font=('Old English Text MT',15),\n",
        "    bg='#660000',\n",
        "    fg=\"#bf9000\",\n",
        "    padx=30,\n",
        "    pady=20,\n",
        "    command=deleteall\n",
        ")\n",
        "delall_btn.pack(fill=BOTH, expand=True, side=LEFT)\n",
        "\n",
        "\n",
        "ws.mainloop()#Loop vai segurar a tela para possibilitar visualizar a janela."
      ],
      "execution_count": null,
      "outputs": []
    },
    {
      "cell_type": "markdown",
      "metadata": {
        "id": "DxRj66SJsgeS"
      },
      "source": [
        "# 5) Rest Client - World Clock\n",
        "\n",
        "Application that queries a server and displays the current date/time hour in local and UTC\n",
        "timezones.\n",
        "\n",
        "\n",
        "Server URL: http://worldclockapi.com/api/json/utc/now"
      ]
    },
    {
      "cell_type": "code",
      "metadata": {
        "colab": {
          "base_uri": "https://localhost:8080/"
        },
        "id": "lJt9rltBwjWJ",
        "outputId": "51a6ac7e-fad0-4a8b-8fa3-d8e16bc6cca3"
      },
      "source": [
        "from urllib.request import urlopen\n",
        "import json\n",
        "# Armazenando a url na variavel 'url'.\n",
        "url = \"http://worldclockapi.com/api/json/utc/now\"\n",
        "  \n",
        "# armazenando a resposta do URL \n",
        "response = urlopen(url)\n",
        "  \n",
        "# analisando e armazenando o JSON em data_json\n",
        "data_json = json.loads(response.read())\n",
        "\n",
        "print(data_json)"
      ],
      "execution_count": null,
      "outputs": [
        {
          "name": "stdout",
          "output_type": "stream",
          "text": [
            "{'$id': '1', 'currentDateTime': '2021-11-22T17:29Z', 'utcOffset': '00:00:00', 'isDayLightSavingsTime': False, 'dayOfTheWeek': 'Monday', 'timeZoneName': 'UTC', 'currentFileTime': 132820757543594051, 'ordinalDate': '2021-326', 'serviceResponse': None}\n"
          ]
        }
      ]
    },
    {
      "cell_type": "code",
      "metadata": {
        "colab": {
          "base_uri": "https://localhost:8080/",
          "height": 81
        },
        "id": "9cy3gstU4VLN",
        "outputId": "689b19cb-91ce-4b0e-f5c4-c16a8a56b416"
      },
      "source": [
        "#Usando o json_normalize para normalizar os dados JSON semiestruturados em uma tabela plana.\n",
        "from pandas import json_normalize\n",
        "df = json_normalize(data_json)\n",
        "df"
      ],
      "execution_count": null,
      "outputs": [
        {
          "output_type": "execute_result",
          "data": {
            "text/html": [
              "<div>\n",
              "<style scoped>\n",
              "    .dataframe tbody tr th:only-of-type {\n",
              "        vertical-align: middle;\n",
              "    }\n",
              "\n",
              "    .dataframe tbody tr th {\n",
              "        vertical-align: top;\n",
              "    }\n",
              "\n",
              "    .dataframe thead th {\n",
              "        text-align: right;\n",
              "    }\n",
              "</style>\n",
              "<table border=\"1\" class=\"dataframe\">\n",
              "  <thead>\n",
              "    <tr style=\"text-align: right;\">\n",
              "      <th></th>\n",
              "      <th>$id</th>\n",
              "      <th>currentDateTime</th>\n",
              "      <th>utcOffset</th>\n",
              "      <th>isDayLightSavingsTime</th>\n",
              "      <th>dayOfTheWeek</th>\n",
              "      <th>timeZoneName</th>\n",
              "      <th>currentFileTime</th>\n",
              "      <th>ordinalDate</th>\n",
              "      <th>serviceResponse</th>\n",
              "    </tr>\n",
              "  </thead>\n",
              "  <tbody>\n",
              "    <tr>\n",
              "      <th>0</th>\n",
              "      <td>1</td>\n",
              "      <td>2021-11-22T17:29Z</td>\n",
              "      <td>00:00:00</td>\n",
              "      <td>False</td>\n",
              "      <td>Monday</td>\n",
              "      <td>UTC</td>\n",
              "      <td>132820757543594051</td>\n",
              "      <td>2021-326</td>\n",
              "      <td>None</td>\n",
              "    </tr>\n",
              "  </tbody>\n",
              "</table>\n",
              "</div>"
            ],
            "text/plain": [
              "  $id    currentDateTime  ... ordinalDate  serviceResponse\n",
              "0   1  2021-11-22T17:29Z  ...    2021-326             None\n",
              "\n",
              "[1 rows x 9 columns]"
            ]
          },
          "metadata": {},
          "execution_count": 28
        }
      ]
    },
    {
      "cell_type": "code",
      "metadata": {
        "colab": {
          "base_uri": "https://localhost:8080/",
          "height": 81
        },
        "id": "a4HyUTUk596x",
        "outputId": "703ccd71-1b25-4356-d194-92dcb18fbd12"
      },
      "source": [
        "#Arrumando o print.\n",
        "import pandas as pd\n",
        "data = {'currentDate':  [''],'time': [''],'timeZoneName':['']}\n",
        "df2 = pd.DataFrame(data)\n",
        "df2['currentDate']= df['currentDateTime'].str[8:10] + '/' + df['currentDateTime'].str[5:7] + '/' + df['currentDateTime'].str[0:4]\n",
        "df2['time'] = df['currentDateTime'].str[11:16]\n",
        "df2['timeZoneName'] = df['timeZoneName']\n",
        "df2"
      ],
      "execution_count": null,
      "outputs": [
        {
          "output_type": "execute_result",
          "data": {
            "text/html": [
              "<div>\n",
              "<style scoped>\n",
              "    .dataframe tbody tr th:only-of-type {\n",
              "        vertical-align: middle;\n",
              "    }\n",
              "\n",
              "    .dataframe tbody tr th {\n",
              "        vertical-align: top;\n",
              "    }\n",
              "\n",
              "    .dataframe thead th {\n",
              "        text-align: right;\n",
              "    }\n",
              "</style>\n",
              "<table border=\"1\" class=\"dataframe\">\n",
              "  <thead>\n",
              "    <tr style=\"text-align: right;\">\n",
              "      <th></th>\n",
              "      <th>currentDate</th>\n",
              "      <th>time</th>\n",
              "      <th>timeZoneName</th>\n",
              "    </tr>\n",
              "  </thead>\n",
              "  <tbody>\n",
              "    <tr>\n",
              "      <th>0</th>\n",
              "      <td>22/11/2021</td>\n",
              "      <td>17:29</td>\n",
              "      <td>UTC</td>\n",
              "    </tr>\n",
              "  </tbody>\n",
              "</table>\n",
              "</div>"
            ],
            "text/plain": [
              "  currentDate   time timeZoneName\n",
              "0  22/11/2021  17:29          UTC"
            ]
          },
          "metadata": {},
          "execution_count": 29
        }
      ]
    },
    {
      "cell_type": "markdown",
      "metadata": {
        "id": "IbgHDOi_H_yw"
      },
      "source": [
        "# 7) Entity Relationship Diagram - Simple Order Manager\n",
        "Design a model for a simple Order Management System.\n",
        "The system consists of:\n",
        "\n",
        "• Clients\n",
        "\n",
        "• Products\n",
        "\n",
        "• Orders\n",
        "\n",
        "• Any other tables/entities you may need\n",
        "\n",
        "You can draw, describe, or list the tables as SQL.\n",
        "\n",
        "Extras:\n",
        "• SQL: list ORDERS with number of items\n",
        "• Which indexes should be created in this model?\n",
        "Note: this exercise is documentation only - there’s no executable to run in this case."
      ]
    },
    {
      "cell_type": "markdown",
      "metadata": {
        "id": "OL-_q7W1JySR"
      },
      "source": [
        "Na representação de ordens aqui realizada o simbolo '*' representa muitos.\n",
        "\n",
        "Cada um desses blocos representa a tabela de dados, então podemos ver como exemplo que temos muitos produtos para cada pessoa e muitos 'country cep code' para um 'countries', pensando na perspectiva que pode existir mais de um usuário para um unico país. No centro da imagem vemos que existem muitas ordens de itens para um grupo de ordem e muitos product_id para um id de products.\n"
      ]
    },
    {
      "cell_type": "markdown",
      "metadata": {
        "id": "NtrxAHQ7JSuK"
      },
      "source": [
        "\n",
        "![](https://drive.google.com/uc?export=view&id=14UeFBrcDJWTHsCNRxZ9nqMH46eZS1WbC)\n",
        "\n"
      ]
    }
  ]
}